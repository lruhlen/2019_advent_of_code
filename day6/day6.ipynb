{
 "cells": [
  {
   "cell_type": "code",
   "execution_count": 33,
   "metadata": {},
   "outputs": [],
   "source": [
    "import numpy as np\n",
    "import pdb"
   ]
  },
  {
   "cell_type": "code",
   "execution_count": 3,
   "metadata": {},
   "outputs": [],
   "source": [
    "def split_spec(spec):\n",
    "    tmp = spec.split(\"\\n\")\n",
    "    \n",
    "    return [t.split(\")\") for t in tmp]"
   ]
  },
  {
   "cell_type": "code",
   "execution_count": 4,
   "metadata": {},
   "outputs": [],
   "source": [
    "test1 = \"\"\"COM)B\n",
    "B)C\n",
    "C)D\n",
    "D)E\n",
    "E)F\n",
    "B)G\n",
    "G)H\n",
    "D)I\n",
    "E)J\n",
    "J)K\n",
    "K)L\"\"\""
   ]
  },
  {
   "cell_type": "code",
   "execution_count": 199,
   "metadata": {},
   "outputs": [],
   "source": [
    "all_nodes = split_spec(test1)\n",
    "\n",
    "all_parents = set([n[0] for n in all_nodes])\n",
    "all_children = set([n[1] for n in all_nodes])\n",
    "\n",
    "root_parent = list(all_parents - all_children)[0]\n",
    "root_node = [n for n in all_nodes if n[0] == root_parent][0]"
   ]
  },
  {
   "cell_type": "code",
   "execution_count": 243,
   "metadata": {},
   "outputs": [],
   "source": [
    "def get_children(parent):\n",
    "    #pdb.set_trace()\n",
    "    if parent in all_parents:\n",
    "        return [n for n in all_nodes if n[0] == parent]\n",
    "    else:\n",
    "        return parent\n",
    "    \n",
    "\n",
    "def build_tree(node):\n",
    "    parent = node[1]\n",
    "    if parent in all_parents:\n",
    "        children = get_children(parent)\n",
    "        return [node, [build_tree(n) for n in children]]\n",
    "    else:\n",
    "        return node"
   ]
  },
  {
   "cell_type": "code",
   "execution_count": 244,
   "metadata": {},
   "outputs": [],
   "source": [
    "t = build_tree(root_node)"
   ]
  },
  {
   "cell_type": "code",
   "execution_count": 245,
   "metadata": {},
   "outputs": [
    {
     "name": "stdout",
     "output_type": "stream",
     "text": [
      "[['COM', 'B'], [[['B', 'C'], [[['C', 'D'], [[['D', 'E'], [['E', 'F'], [['E', 'J'], [[['J', 'K'], [['K', 'L']]]]]]], ['D', 'I']]]]], [['B', 'G'], [['G', 'H']]]]]\n"
     ]
    }
   ],
   "source": [
    "print(t)"
   ]
  },
  {
   "cell_type": "code",
   "execution_count": null,
   "metadata": {},
   "outputs": [],
   "source": [
    "def tree_print(tree, prefix=''):\n",
    "    if len(tree) > 1:\n",
    "        prefix = prefix + '\\t'\n",
    "        \n",
    "    else:\n",
    "        return prefix + tree[0]"
   ]
  },
  {
   "cell_type": "code",
   "execution_count": null,
   "metadata": {},
   "outputs": [],
   "source": []
  },
  {
   "cell_type": "markdown",
   "metadata": {},
   "source": []
  },
  {
   "cell_type": "markdown",
   "metadata": {},
   "source": [
    "### holding tank for old code that might be deleted"
   ]
  },
  {
   "cell_type": "code",
   "execution_count": 305,
   "metadata": {},
   "outputs": [],
   "source": [
    "def find_parents(link, all_links):\n",
    "    try:\n",
    "        # Find parent from within all_links\n",
    "        parents = [l for l in all_links if l[1] == link[0]]\n",
    "        print(f\"finding parents of {link}\")\n",
    "        print(f\"\\tParents found: {parents}\\n\")\n",
    "        # Remove parent from all_links\n",
    "        if parents:\n",
    "            #all_links.remove(parents[0])\n",
    "            return [parents[0][0], link]\n",
    "    except:\n",
    "        return None\n",
    "\n",
    "\n",
    "def find_terminal_leaves(links):\n",
    "    parents = [x[0] for x in links]\n",
    "    terminal_leaves = [l for l in links if l[1] not in parents]\n",
    "    for tl in terminal_leaves:\n",
    "        links.remove(tl)\n",
    "    return terminal_leaves, links\n",
    "\n",
    "\n",
    "\n",
    "def construct_tree(raw_spec):\n",
    "    all_links = split_spec(raw_spec)\n",
    "    terminal_leaves, all_links = find_terminal_leaves(all_links)\n",
    "    while all_links:\n",
    "        terminal_leaves = [find_parents(leaf, all_links) for leaf in terminal_leaves]\n",
    "        [all_links.remove(p) for p in terminal_leaves if p in all_links];\n",
    "    \n",
    "    return terminal_leaves\n",
    "    #tree = terminal_leaves[1:]\n",
    "        \n",
    "    #return tree"
   ]
  },
  {
   "cell_type": "code",
   "execution_count": null,
   "metadata": {},
   "outputs": [],
   "source": []
  }
 ],
 "metadata": {
  "kernelspec": {
   "display_name": "Python 3",
   "language": "python",
   "name": "python3"
  },
  "language_info": {
   "codemirror_mode": {
    "name": "ipython",
    "version": 3
   },
   "file_extension": ".py",
   "mimetype": "text/x-python",
   "name": "python",
   "nbconvert_exporter": "python",
   "pygments_lexer": "ipython3",
   "version": "3.7.3"
  }
 },
 "nbformat": 4,
 "nbformat_minor": 4
}
