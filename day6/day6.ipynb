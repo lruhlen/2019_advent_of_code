{
 "cells": [
  {
   "cell_type": "code",
   "execution_count": 2,
   "metadata": {},
   "outputs": [],
   "source": [
    "import numpy as np"
   ]
  },
  {
   "cell_type": "code",
   "execution_count": 305,
   "metadata": {},
   "outputs": [],
   "source": [
    "def split_spec(spec):\n",
    "    tmp = spec.split(\"\\n\")\n",
    "    \n",
    "    return [t.split(\")\") for t in tmp]\n",
    "\n",
    "\n",
    "\n",
    "def find_parents(link, all_links):\n",
    "    try:\n",
    "        # Find parent from within all_links\n",
    "        parents = [l for l in all_links if l[1] == link[0]]\n",
    "        print(f\"finding parents of {link}\")\n",
    "        print(f\"\\tParents found: {parents}\\n\")\n",
    "        # Remove parent from all_links\n",
    "        if parents:\n",
    "            #all_links.remove(parents[0])\n",
    "            return [parents[0][0], link]\n",
    "    except:\n",
    "        return None\n",
    "\n",
    "\n",
    "def find_terminal_leaves(links):\n",
    "    parents = [x[0] for x in links]\n",
    "    terminal_leaves = [l for l in links if l[1] not in parents]\n",
    "    for tl in terminal_leaves:\n",
    "        links.remove(tl)\n",
    "    return terminal_leaves, links\n",
    "\n",
    "\n",
    "\n",
    "def construct_tree(raw_spec):\n",
    "    all_links = split_spec(raw_spec)\n",
    "    terminal_leaves, all_links = find_terminal_leaves(all_links)\n",
    "    while all_links:\n",
    "        terminal_leaves = [find_parents(leaf, all_links) for leaf in terminal_leaves]\n",
    "        [all_links.remove(p) for p in terminal_leaves if p in all_links];\n",
    "    \n",
    "    return terminal_leaves\n",
    "    #tree = terminal_leaves[1:]\n",
    "        \n",
    "    #return tree\n"
   ]
  },
  {
   "cell_type": "code",
   "execution_count": null,
   "metadata": {},
   "outputs": [],
   "source": []
  },
  {
   "cell_type": "code",
   "execution_count": null,
   "metadata": {},
   "outputs": [
    {
     "name": "stdout",
     "output_type": "stream",
     "text": [
      "finding parents of ['E', 'F']\n",
      "\tParents found: [['D', 'E']]\n",
      "\n",
      "finding parents of ['G', 'H']\n",
      "\tParents found: [['B', 'G']]\n",
      "\n",
      "finding parents of ['D', 'I']\n",
      "\tParents found: [['C', 'D']]\n",
      "\n",
      "finding parents of ['K', 'L']\n",
      "\tParents found: [['J', 'K']]\n",
      "\n",
      "finding parents of ['D', ['E', 'F']]\n",
      "\tParents found: [['C', 'D']]\n",
      "\n",
      "finding parents of ['B', ['G', 'H']]\n",
      "\tParents found: [['COM', 'B']]\n",
      "\n",
      "finding parents of ['C', ['D', 'I']]\n",
      "\tParents found: [['B', 'C']]\n",
      "\n",
      "finding parents of ['J', ['K', 'L']]\n",
      "\tParents found: [['E', 'J']]\n",
      "\n",
      "finding parents of ['C', ['D', ['E', 'F']]]\n",
      "\tParents found: [['B', 'C']]\n",
      "\n",
      "finding parents of ['COM', ['B', ['G', 'H']]]\n",
      "\tParents found: []\n",
      "\n",
      "finding parents of ['B', ['C', ['D', 'I']]]\n",
      "\tParents found: [['COM', 'B']]\n",
      "\n",
      "finding parents of ['E', ['J', ['K', 'L']]]\n",
      "\tParents found: [['D', 'E']]\n",
      "\n",
      "finding parents of ['B', ['C', ['D', ['E', 'F']]]]\n",
      "\tParents found: [['COM', 'B']]\n",
      "\n",
      "finding parents of ['COM', ['B', ['C', ['D', 'I']]]]\n",
      "\tParents found: []\n",
      "\n",
      "finding parents of ['D', ['E', ['J', ['K', 'L']]]]\n",
      "\tParents found: [['C', 'D']]\n",
      "\n",
      "finding parents of ['COM', ['B', ['C', ['D', ['E', 'F']]]]]\n",
      "\tParents found: []\n",
      "\n",
      "finding parents of ['C', ['D', ['E', ['J', ['K', 'L']]]]]\n",
      "\tParents found: [['B', 'C']]\n",
      "\n",
      "finding parents of ['B', ['C', ['D', ['E', ['J', ['K', 'L']]]]]]\n",
      "\tParents found: [['COM', 'B']]\n",
      "\n",
      "finding parents of ['COM', ['B', ['C', ['D', ['E', ['J', ['K', 'L']]]]]]]\n",
      "\tParents found: []\n",
      "\n"
     ]
    }
   ],
   "source": [
    "test1 = \"\"\"COM)B\n",
    "B)C\n",
    "C)D\n",
    "D)E\n",
    "E)F\n",
    "B)G\n",
    "G)H\n",
    "D)I\n",
    "E)J\n",
    "J)K\n",
    "K)L\"\"\"\n",
    "\n",
    "x = split_spec(test1)\n",
    "tree = construct_tree(test1)\n",
    "\n",
    "#print(tree)"
   ]
  },
  {
   "cell_type": "code",
   "execution_count": null,
   "metadata": {},
   "outputs": [],
   "source": [
    "tree"
   ]
  },
  {
   "cell_type": "code",
   "execution_count": 277,
   "metadata": {},
   "outputs": [],
   "source": [
    "tl, all_links = find_terminal_leaves(x)"
   ]
  },
  {
   "cell_type": "code",
   "execution_count": 248,
   "metadata": {},
   "outputs": [
    {
     "data": {
      "text/plain": [
       "[['E', 'F'], ['G', 'H'], ['D', 'I'], ['K', 'L']]"
      ]
     },
     "execution_count": 248,
     "metadata": {},
     "output_type": "execute_result"
    }
   ],
   "source": [
    "tl"
   ]
  },
  {
   "cell_type": "code",
   "execution_count": 254,
   "metadata": {},
   "outputs": [
    {
     "data": {
      "text/plain": [
       "[['COM', 'B'],\n",
       " ['B', 'C'],\n",
       " ['C', 'D'],\n",
       " ['D', 'E'],\n",
       " ['B', 'G'],\n",
       " ['E', 'J'],\n",
       " ['J', 'K']]"
      ]
     },
     "execution_count": 254,
     "metadata": {},
     "output_type": "execute_result"
    }
   ],
   "source": [
    "all_links"
   ]
  },
  {
   "cell_type": "code",
   "execution_count": 256,
   "metadata": {},
   "outputs": [],
   "source": [
    "parents = [l for l in all_links if l[1] == tl[0][0]]\n"
   ]
  },
  {
   "cell_type": "code",
   "execution_count": 257,
   "metadata": {},
   "outputs": [
    {
     "data": {
      "text/plain": [
       "[['D', 'E']]"
      ]
     },
     "execution_count": 257,
     "metadata": {},
     "output_type": "execute_result"
    }
   ],
   "source": [
    "parents"
   ]
  },
  {
   "cell_type": "code",
   "execution_count": 258,
   "metadata": {},
   "outputs": [
    {
     "data": {
      "text/plain": [
       "['E', 'F']"
      ]
     },
     "execution_count": 258,
     "metadata": {},
     "output_type": "execute_result"
    }
   ],
   "source": [
    "tl[0]"
   ]
  },
  {
   "cell_type": "code",
   "execution_count": 261,
   "metadata": {},
   "outputs": [
    {
     "data": {
      "text/plain": [
       "4"
      ]
     },
     "execution_count": 261,
     "metadata": {},
     "output_type": "execute_result"
    }
   ],
   "source": [
    "len(tl)"
   ]
  },
  {
   "cell_type": "code",
   "execution_count": 262,
   "metadata": {},
   "outputs": [
    {
     "data": {
      "text/plain": [
       "[['E', 'F'], ['G', 'H'], ['D', 'I'], ['K', 'L']]"
      ]
     },
     "execution_count": 262,
     "metadata": {},
     "output_type": "execute_result"
    }
   ],
   "source": [
    "tl"
   ]
  },
  {
   "cell_type": "code",
   "execution_count": 264,
   "metadata": {},
   "outputs": [
    {
     "data": {
      "text/plain": [
       "[['C', 'D'], ['D', 'E'], ['B', 'G'], ['J', 'K']]"
      ]
     },
     "execution_count": 264,
     "metadata": {},
     "output_type": "execute_result"
    }
   ],
   "source": [
    "[l for l in all_links for t in tl if l[1] == t[0] ]"
   ]
  },
  {
   "cell_type": "code",
   "execution_count": null,
   "metadata": {},
   "outputs": [],
   "source": []
  }
 ],
 "metadata": {
  "kernelspec": {
   "display_name": "Python 3",
   "language": "python",
   "name": "python3"
  },
  "language_info": {
   "codemirror_mode": {
    "name": "ipython",
    "version": 3
   },
   "file_extension": ".py",
   "mimetype": "text/x-python",
   "name": "python",
   "nbconvert_exporter": "python",
   "pygments_lexer": "ipython3",
   "version": "3.7.3"
  }
 },
 "nbformat": 4,
 "nbformat_minor": 4
}
