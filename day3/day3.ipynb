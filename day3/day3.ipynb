{
 "cells": [
  {
   "cell_type": "markdown",
   "metadata": {},
   "source": [
    "## Part 1"
   ]
  },
  {
   "cell_type": "code",
   "execution_count": 11,
   "metadata": {},
   "outputs": [],
   "source": [
    "import numpy as np\n",
    "from itertools import zip_longest\n",
    "\n",
    "# Part 1\n",
    "default_origin = (0, 0)"
   ]
  },
  {
   "cell_type": "code",
   "execution_count": 223,
   "metadata": {},
   "outputs": [],
   "source": [
    "class Path():\n",
    "    def __init__(self, instruction_list=None, origin=default_origin):\n",
    "        self.origin = np.array(origin)\n",
    "        self.current_loc = np.array(origin)\n",
    "        self.instruction_list = self._parse_instruction_list(instruction_list)\n",
    "        #self.path = [self.origin.tolist(), ]\n",
    "        self.path = []\n",
    "        self.build()\n",
    "    \n",
    "    def _add_path_leg(self, direction, magnitude):\n",
    "        stop = self.current_loc\n",
    "        incr = np.array([0, 0])\n",
    "        \n",
    "        if direction == 'y':\n",
    "            stop = self.current_loc + (0, magnitude)\n",
    "            incr = np.array([0, magnitude / np.abs(magnitude)])\n",
    "        elif direction == 'x':\n",
    "            stop = self.current_loc + (magnitude, 0)\n",
    "            incr = np.array([magnitude / np.abs(magnitude) , 0])\n",
    "        else:\n",
    "            raise Exception(f\"I don't recognize that direction: {direction}\")\n",
    "            \n",
    "        for i in range(np.abs(magnitude)):\n",
    "            self.current_loc = self.current_loc + incr\n",
    "            self.path.append(self.current_loc.tolist())\n",
    "        \n",
    "    def _parse_instruction_list(self, instruction_list):\n",
    "        if instruction_list:\n",
    "            tmp = instruction_list.strip().split(',')\n",
    "            return [self._parse_single_instruction(t) for t in tmp]\n",
    "        else:\n",
    "            print(\"No instruction list provided\")\n",
    "    \n",
    "    def _parse_single_instruction(self, instruction):\n",
    "        direction = instruction[0]\n",
    "        magnitude = int(instruction[1:])\n",
    "        if direction in ('D', 'L'):\n",
    "            magnitude = -1 * magnitude\n",
    "            \n",
    "        if direction in ('U', 'D'):\n",
    "            direction = 'y'\n",
    "        elif direction in ('R', 'L'):\n",
    "            direction = 'x' \n",
    "        return (direction, magnitude)\n",
    "        \n",
    "    def build(self):\n",
    "        for i in self.instruction_list:\n",
    "            self._add_path_leg(i[0], i[1])\n",
    "            \n",
    "    \n",
    "    def intersect(self, other_path):\n",
    "        s1 = self._to_set()\n",
    "        s2 = other_path._to_set()\n",
    "        return s1.intersection(s2)\n",
    "        \n",
    "    def _to_set(self):\n",
    "        return set([(pi[0], pi[1]) for pi in self.path])\n",
    "    \n",
    "    def show(self):\n",
    "        pass"
   ]
  },
  {
   "cell_type": "code",
   "execution_count": 241,
   "metadata": {},
   "outputs": [],
   "source": [
    "def find_closest_intersection_distance(p1, p2):\n",
    "    intersections = p1.intersect(p2)\n",
    "    if intersections:\n",
    "        distances = [sum(np.abs(i)) for i in intersections]\n",
    "        return min(distances)\n",
    "    else:\n",
    "        print(\"These paths do not intersect\")\n",
    "        return None"
   ]
  },
  {
   "cell_type": "code",
   "execution_count": 243,
   "metadata": {},
   "outputs": [
    {
     "name": "stdout",
     "output_type": "stream",
     "text": [
      "[[1.0, 0.0], [2.0, 0.0], [3.0, 0.0], [2.0, 0.0], [2.0, 1.0]]\n",
      "[[0.0, 1.0], [1.0, 1.0], [2.0, 1.0], [3.0, 1.0], [2.0, 1.0]]\n"
     ]
    }
   ],
   "source": [
    "p1 = Path(instruction_list='R3,L1,U1')\n",
    "print(p1.path)\n",
    "\n",
    "p3 = Path(instruction_list='U1,R3,L1 ')\n",
    "print(p3.path)\n"
   ]
  },
  {
   "cell_type": "code",
   "execution_count": 244,
   "metadata": {},
   "outputs": [
    {
     "data": {
      "text/plain": [
       "3.0"
      ]
     },
     "execution_count": 244,
     "metadata": {},
     "output_type": "execute_result"
    }
   ],
   "source": [
    "find_closest_intersection_distance(p3,p1)"
   ]
  },
  {
   "cell_type": "code",
   "execution_count": 245,
   "metadata": {},
   "outputs": [
    {
     "data": {
      "text/plain": [
       "3229.0"
      ]
     },
     "execution_count": 245,
     "metadata": {},
     "output_type": "execute_result"
    }
   ],
   "source": [
    "with open('inputs.txt','r') as f:\n",
    "    foo = f.readlines()\n",
    "\n",
    "p1 = Path(instruction_list=foo[0])\n",
    "p2 = Path(instruction_list=foo[1])\n",
    "\n",
    "find_closest_intersection_distance(p1, p2)"
   ]
  },
  {
   "cell_type": "markdown",
   "metadata": {},
   "source": [
    "## Part 2"
   ]
  },
  {
   "cell_type": "code",
   "execution_count": 404,
   "metadata": {},
   "outputs": [],
   "source": [
    "def find_path_length_to_intersection(path, intersection):\n",
    "    return np.array([idx+1 for (idx, t) in enumerate(path.path) if (intersection==t).all()])[0]\n",
    "\n",
    "def find_min_combined_path_to_intersection(p1, p2):\n",
    "    intersections = p1.intersect(p2)\n",
    "    intersections = np.array([np.array(i) for i in intersections])\n",
    "\n",
    "    p1_len_to_intersections = np.array([find_path_length_to_intersection(p1, i) for i in intersections])\n",
    "    p2_len_to_intersections = np.array([find_path_length_to_intersection(p2, i) for i in intersections])\n",
    "\n",
    "    return min(p1_len_to_intersections + p2_len_to_intersections)"
   ]
  },
  {
   "cell_type": "code",
   "execution_count": 407,
   "metadata": {},
   "outputs": [],
   "source": [
    "# Test cases provided in the problem description\n",
    "p1 = Path(instruction_list='R75,D30,R83,U83,L12,D49,R71,U7,L72')\n",
    "p2 = Path(instruction_list='U62,R66,U55,R34,D71,R55,D58,R83')\n",
    "assert find_min_combined_path_to_intersection(p1, p2) == 610\n",
    "\n",
    "p3 = Path(instruction_list='R98,U47,R26,D63,R33,U87,L62,D20,R33,U53,R51')\n",
    "p4 = Path(instruction_list='U98,R91,D20,R16,D67,R40,U7,R15,U6,R7')\n",
    "assert find_min_combined_path_to_intersection(p3, p4) == 410"
   ]
  },
  {
   "cell_type": "code",
   "execution_count": 408,
   "metadata": {},
   "outputs": [
    {
     "data": {
      "text/plain": [
       "32132"
      ]
     },
     "execution_count": 408,
     "metadata": {},
     "output_type": "execute_result"
    }
   ],
   "source": [
    "with open('inputs.txt','r') as f:\n",
    "    foo = f.readlines()\n",
    "\n",
    "p1 = Path(instruction_list=foo[0])\n",
    "p2 = Path(instruction_list=foo[1])\n",
    "\n",
    "find_min_combined_path_to_intersection(p1, p2)"
   ]
  },
  {
   "cell_type": "code",
   "execution_count": null,
   "metadata": {},
   "outputs": [],
   "source": []
  }
 ],
 "metadata": {
  "kernelspec": {
   "display_name": "Python 3",
   "language": "python",
   "name": "python3"
  },
  "language_info": {
   "codemirror_mode": {
    "name": "ipython",
    "version": 3
   },
   "file_extension": ".py",
   "mimetype": "text/x-python",
   "name": "python",
   "nbconvert_exporter": "python",
   "pygments_lexer": "ipython3",
   "version": "3.7.3"
  }
 },
 "nbformat": 4,
 "nbformat_minor": 4
}
