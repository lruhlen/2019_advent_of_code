{
 "cells": [
  {
   "cell_type": "code",
   "execution_count": 53,
   "metadata": {},
   "outputs": [],
   "source": [
    "# %load day3.py\n",
    "import numpy as np\n",
    "from itertools import zip_longest\n",
    "\n",
    "# Part 1\n",
    "default_origin = (0, 0)"
   ]
  },
  {
   "cell_type": "code",
   "execution_count": 221,
   "metadata": {},
   "outputs": [],
   "source": [
    "class Grid():\n",
    "    def __init__(self, origin=default_origin):\n",
    "        self.origin = origin\n",
    "        self.grid = [origin, ]\n",
    "        self._current_x = self.origin[0]\n",
    "        self._current_y = self.origin[1]\n",
    "\n",
    "    def show(self):\n",
    "        print(self.grid)\n",
    "\n",
    "    def parse_instruction(self, inst):\n",
    "        direction = inst[0]\n",
    "        magnitude = int(inst[1:])\n",
    "\n",
    "        if direction in ('D', 'L'):\n",
    "            magnitude = -1 * magnitude\n",
    "\n",
    "        if direction in ('D', 'U'):\n",
    "            direction = 'v'\n",
    "        else:\n",
    "            direction = 'h'\n",
    "\n",
    "        return (magnitude, direction)\n",
    "\n",
    "    def update(self, instruction):\n",
    "        magnitude, direction = self.parse_instruction(instruction)\n",
    "        if direction == \"v\":\n",
    "            new_y = self._current_y + magnitude \n",
    "            low = min(new_y, self._current_y)\n",
    "            high = max(new_y, self._current_y)\n",
    "            new_coords = list(zip_longest( [self._current_x, ], range(low, high), fillvalue=self._current_x))\n",
    "            self._current_y = new_y\n",
    "            \n",
    "        elif direction == \"h\":\n",
    "            new_x = self._current_x + magnitude\n",
    "            low = min(new_x, self._current_x)\n",
    "            high = max(new_x, self._current_x)\n",
    "            new_coords = list(zip_longest(range(low, high), [self._current_y, ], fillvalue=self._current_y))\n",
    "            self._current_x = new_x\n",
    "\n",
    "        for i in new_coords:\n",
    "            self.grid.append(i)\n",
    "        # Fix the missing corners bug with a hammer\n",
    "        current_coords = (self._current_x, self._current_y)\n",
    "        self.grid.append(current_coords)\n",
    "\n",
    "    def build_path(self, instructions):\n",
    "        for inst in instructions:\n",
    "            self.update(inst)"
   ]
  },
  {
   "cell_type": "code",
   "execution_count": 222,
   "metadata": {},
   "outputs": [],
   "source": [
    "def find_intersections(grid1, grid2):\n",
    "    result = set(grid1.grid).intersection(set(grid2.grid))\n",
    "    result.remove(grid1.origin)\n",
    "    return result\n",
    "\n",
    "\n",
    "def calc_distance(point, origin=default_origin):\n",
    "    \"\"\"Using Manhattan distance!\"\"\"\n",
    "    deltas = np.abs(np.array(point) - np.array(origin))\n",
    "    return (sum(deltas))\n",
    "\n",
    "\n",
    "def find_closest_intersection(grid1, grid2):\n",
    "    itxs = find_intersections(grid1, grid2)\n",
    "    distances = [calc_distance(i, origin=grid1.origin) for i in itxs if (i != grid1.origin)]\n",
    "    \n",
    "    if len(distances) == 0:\n",
    "        raise Exception(\"No intersections detected\")\n",
    "\n",
    "    return min(distances)\n",
    "\n",
    "\n",
    "def main(l1, l2):\n",
    "    l1 = l1.split(',')\n",
    "    l2 = l2.split(',')\n",
    "\n",
    "    g1 = Grid()\n",
    "    g2 = Grid()\n",
    "\n",
    "    g1.build_path(l1)\n",
    "    g2.build_path(l2)\n",
    "\n",
    "    result = find_closest_intersection(g1, g2)\n",
    "    return result\n",
    "    "
   ]
  },
  {
   "cell_type": "code",
   "execution_count": 230,
   "metadata": {},
   "outputs": [],
   "source": [
    "# Tests\n",
    "\n",
    "def test_main():\n",
    "    i1 = 'R75,D30,R83,U83,L12,D49,R71,U7,L72'\n",
    "    i2 = 'U62,R66,U55,R34,D71,R55,D58,R83'\n",
    "    result = main(i1, i2)\n",
    "    assert (result == 159)\n",
    "    \n",
    "    i1 = 'R98,U47,R26,D63,R33,U87,L62,D20,R33,U53,R51'\n",
    "    i2 = 'U98,R91,D20,R16,D67,R40,U7,R15,U6,R7'\n",
    "    result = main(i1, i2)\n",
    "    assert (result == 135)\n",
    "\n",
    "\n",
    "def test_update():\n",
    "    g = Grid(nrows=3, ncols=3)\n",
    "    g.update(2, 'h')\n",
    "    g.update(2, 'v')\n",
    "    g.update(-2, 'h')\n",
    "    expected_result = np.array([[1, 1, 1], [0, 0, 1], [1, 1, 1]])\n",
    "    assert (g.grid == expected_result).all()\n",
    "\n",
    "\n",
    "def test_parse_instructions():\n",
    "    my_grid = Grid()\n",
    "    assert (my_grid.parse_instruction('U10') == (10, 'v'))\n",
    "    assert (my_grid.parse_instruction('D10') == (-10, 'v'))\n",
    "    assert (my_grid.parse_instruction('R10') == (10, 'h'))\n",
    "    assert (my_grid.parse_instruction('L10') == (-10, 'h'))\n",
    "\n",
    "    \n",
    "def test_find_intersections():\n",
    "    g1 = Grid()\n",
    "    g2 = Grid()\n",
    "    \n",
    "    g1.build_path(['U1', 'R1', 'U4', 'D1'])\n",
    "    g2.build_path(['R1', 'U1', 'L3'])\n",
    "    \n",
    "    result = find_intersections(g1, g2)\n",
    "    assert (len(list(result)) == 1)\n",
    "    assert (result == {(1,1)})\n",
    "\n",
    "\n",
    "def test_manhattan_distance_calculator():\n",
    "    assert (calc_distance((0, 0)) == 0)\n",
    "    assert (calc_distance((12, 3)) == 15)\n",
    "    assert (calc_distance((0, 0), origin=(10, 10)) == 20)\n",
    "\n",
    "\n",
    "def test_find_closest_intersection():\n",
    "    g1 = np.zeros((3, 3))\n",
    "    g2 = np.zeros((3, 3))\n",
    "    g1[0, 0] = g1[1, 1] = g1[2, 2] = g1[0, 2] = 1\n",
    "    g2[2, 0] = g2[1, 1] = g2[0, 2] = 1\n",
    "\n",
    "    result = find_closest_intersection(g1, g2)\n",
    "    assert (result == 2)\n",
    "\n",
    "    result = find_closest_intersection(g1, g2, origin=np.array([0,1]))\n",
    "    assert (result == 1)"
   ]
  },
  {
   "cell_type": "code",
   "execution_count": 231,
   "metadata": {},
   "outputs": [
    {
     "data": {
      "text/plain": [
       "3229"
      ]
     },
     "execution_count": 231,
     "metadata": {},
     "output_type": "execute_result"
    }
   ],
   "source": [
    "with open('inputs.txt','r') as f:\n",
    "    foo = f.readlines()\n",
    "\n",
    "i1 = foo[0].strip()\n",
    "i2 = foo[1].strip()\n",
    "main(i1, i2)"
   ]
  },
  {
   "cell_type": "code",
   "execution_count": 233,
   "metadata": {},
   "outputs": [],
   "source": [
    "g1 = Grid()\n",
    "g1.build_path(['L2', 'D5', 'U1'])"
   ]
  },
  {
   "cell_type": "code",
   "execution_count": 235,
   "metadata": {},
   "outputs": [
    {
     "data": {
      "text/plain": [
       "[(0, 0),\n",
       " (-2, 0),\n",
       " (-1, 0),\n",
       " (-2, 0),\n",
       " (-2, -5),\n",
       " (-2, -4),\n",
       " (-2, -3),\n",
       " (-2, -2),\n",
       " (-2, -1),\n",
       " (-2, -5),\n",
       " (-2, -5),\n",
       " (-2, -4)]"
      ]
     },
     "execution_count": 235,
     "metadata": {},
     "output_type": "execute_result"
    }
   ],
   "source": [
    "g1.grid"
   ]
  },
  {
   "cell_type": "code",
   "execution_count": null,
   "metadata": {},
   "outputs": [],
   "source": []
  }
 ],
 "metadata": {
  "kernelspec": {
   "display_name": "Python 3",
   "language": "python",
   "name": "python3"
  },
  "language_info": {
   "codemirror_mode": {
    "name": "ipython",
    "version": 3
   },
   "file_extension": ".py",
   "mimetype": "text/x-python",
   "name": "python",
   "nbconvert_exporter": "python",
   "pygments_lexer": "ipython3",
   "version": "3.7.3"
  }
 },
 "nbformat": 4,
 "nbformat_minor": 2
}
