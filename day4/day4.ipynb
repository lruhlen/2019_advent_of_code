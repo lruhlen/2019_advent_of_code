{
 "cells": [
  {
   "cell_type": "markdown",
   "metadata": {},
   "source": [
    "## Part 1"
   ]
  },
  {
   "cell_type": "code",
   "execution_count": 101,
   "metadata": {},
   "outputs": [],
   "source": [
    "import itertools\n",
    "import numpy as np"
   ]
  },
  {
   "cell_type": "code",
   "execution_count": 57,
   "metadata": {},
   "outputs": [],
   "source": [
    "lower_bound = 356261\n",
    "upper_bound = 846303\n"
   ]
  },
  {
   "cell_type": "code",
   "execution_count": 92,
   "metadata": {},
   "outputs": [],
   "source": [
    "def fits_constraints(number):\n",
    "    numstr = str(number)\n",
    "    digits = [int(d) for d in list(numstr)]\n",
    "    c1 = sorted(digits) == digits\n",
    "    c2 = len(list(set(digits))) < len(digits)\n",
    "    return c1 and c2\n"
   ]
  },
  {
   "cell_type": "code",
   "execution_count": 93,
   "metadata": {},
   "outputs": [
    {
     "data": {
      "text/plain": [
       "544"
      ]
     },
     "execution_count": 93,
     "metadata": {},
     "output_type": "execute_result"
    }
   ],
   "source": [
    "sum(list(map(fits_constraints, range(lower_bound, upper_bound))))"
   ]
  },
  {
   "cell_type": "markdown",
   "metadata": {},
   "source": [
    "## Part 2"
   ]
  },
  {
   "cell_type": "markdown",
   "metadata": {},
   "source": [
    "There must be at least one sequence of exactly 2 repeats somewhere in the sequence.  \n",
    "\n",
    "These examples do:\n",
    "\n",
    "```\n",
    "111122\n",
    "112233\n",
    "123445\n",
    "```\n",
    "\n",
    "These examples don't:\n",
    "\n",
    "```\n",
    "123444\n",
    "124444\n",
    "```"
   ]
  },
  {
   "cell_type": "code",
   "execution_count": 110,
   "metadata": {},
   "outputs": [],
   "source": [
    "def counter(foo):\n",
    "    d = dict()\n",
    "    for f in foo:\n",
    "        if f in d:\n",
    "            d[f] += 1\n",
    "        else:\n",
    "            d[f] = 1\n",
    "            \n",
    "    return 2 in d.values()"
   ]
  },
  {
   "cell_type": "code",
   "execution_count": 115,
   "metadata": {},
   "outputs": [],
   "source": [
    "def fits_constraints(number):\n",
    "    numstr = str(number)\n",
    "    digits = [int(d) for d in list(numstr)]\n",
    "    if sorted(digits) == digits:\n",
    "        if len(list(set(digits))) < len(digits):\n",
    "            if counter(digits):\n",
    "                return True\n",
    "    return False\n",
    "\n"
   ]
  },
  {
   "cell_type": "code",
   "execution_count": 116,
   "metadata": {},
   "outputs": [
    {
     "data": {
      "text/plain": [
       "334"
      ]
     },
     "execution_count": 116,
     "metadata": {},
     "output_type": "execute_result"
    }
   ],
   "source": [
    "sum(list(map(fits_constraints, range(lower_bound, upper_bound))))"
   ]
  },
  {
   "cell_type": "code",
   "execution_count": null,
   "metadata": {},
   "outputs": [],
   "source": []
  }
 ],
 "metadata": {
  "kernelspec": {
   "display_name": "Python 3",
   "language": "python",
   "name": "python3"
  },
  "language_info": {
   "codemirror_mode": {
    "name": "ipython",
    "version": 3
   },
   "file_extension": ".py",
   "mimetype": "text/x-python",
   "name": "python",
   "nbconvert_exporter": "python",
   "pygments_lexer": "ipython3",
   "version": "3.7.3"
  }
 },
 "nbformat": 4,
 "nbformat_minor": 4
}
