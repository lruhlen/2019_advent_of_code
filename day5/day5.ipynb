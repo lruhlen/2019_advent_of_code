{
 "cells": [
  {
   "cell_type": "code",
   "execution_count": 352,
   "metadata": {},
   "outputs": [],
   "source": [
    "import logging\n",
    "logger = logging.getLogger()\n",
    "logger.setLevel(logging.ERROR)"
   ]
  },
  {
   "cell_type": "code",
   "execution_count": 353,
   "metadata": {},
   "outputs": [],
   "source": [
    "stopcode = 99\n",
    "\n",
    "def opcode1(param1, param2, param3, memory, modes):\n",
    "    '''Add'''\n",
    "    logging.debug(\"Running Opcode 1\")\n",
    "    logging.debug(f\"\\tparam, mode:\\n\\t------------\")\n",
    "    logging.debug(f\"\\t{param1}, {modes[0]}\")\n",
    "    logging.debug(f\"\\t{param2}, {modes[1]}\")\n",
    "    logging.debug(f\"\\t{param3}, {modes[2]}\")\n",
    "\n",
    "    if not modes[0]:\n",
    "        param1 = memory[param1]\n",
    "    if not modes[1]:\n",
    "        param2 = memory[param2]\n",
    "    #if not modes[2]:\n",
    "    #    param3 = memory[param3]\n",
    "\n",
    "    output_val = param1 + param2\n",
    "    memory[param3] = output_val\n",
    "\n",
    "    \n",
    "def opcode2(param1, param2, param3, memory, modes):\n",
    "    '''Multiply'''\n",
    "    logging.debug(\"Running Opcode 2\")\n",
    "\n",
    "    if not modes[0]:\n",
    "        param1 = memory[param1]\n",
    "    if not modes[1]:\n",
    "        param2 = memory[param2]\n",
    "    #if not modes[2]:\n",
    "    #    param3 = memory[param3]\n",
    "\n",
    "    logging.debug(f\"\\tparam, mode:\\n\\t------------\")\n",
    "    logging.debug(f\"\\t{param1}, {modes[0]}\")\n",
    "    logging.debug(f\"\\t{param2}, {modes[1]}\")\n",
    "    logging.debug(f\"\\t{param3}, {modes[2]}\")\n",
    "\n",
    "    output_val = param1 * param2\n",
    "    memory[param3] = output_val\n",
    "\n",
    "    \n",
    "def opcode3(param1, memory):\n",
    "    '''Get and store input'''\n",
    "    logging.debug(\"Running Opcode 3\")\n",
    "\n",
    "    output_val = int(input(\"Please enter an integer:\"))\n",
    "    memory[param1] = output_val\n",
    "    logging.debug(f\"\\tparam, mode:\\n\\t------------\")\n",
    "    logging.debug(f\"\\t{param1}, (NO MODES FOR THIS OPCODE!)\")\n",
    "    \n",
    "    \n",
    "def opcode4(param1, memory, modes):\n",
    "    '''Print output'''\n",
    "    logging.debug(\"Running Opcode 4\")\n",
    "\n",
    "    if not modes[0]:\n",
    "        param1 = memory[param1]\n",
    "        \n",
    "    logging.debug(f\"\\tparam, mode:\\n\\t------------\")\n",
    "    logging.debug(f\"\\t{param1}, {modes[0]}\")\n",
    "\n",
    "    print(f\"OUTPUT: {param1}\")\n",
    "\n",
    "        \n",
    "def opcode5(param1, param2, memory, modes):\n",
    "    '''Jump if true'''\n",
    "    logging.debug(\"Running Opcode 5\")\n",
    "\n",
    "    if not modes[0]:\n",
    "        param1 = memory[param1]\n",
    "    if not modes[1]:\n",
    "        param2 = memory[param2]\n",
    "\n",
    "    logging.debug(f\"\\tparam, mode:\\n\\t------------\")\n",
    "    logging.debug(f\"\\t{param1}, {modes[0]}\")\n",
    "    logging.debug(f\"\\t{param2}, {modes[1]}\")\n",
    "\n",
    "    if param1:\n",
    "        return param2\n",
    "    else:\n",
    "        return None\n",
    "\n",
    "\n",
    "def opcode6(param1, param2, memory, modes):\n",
    "    '''Jump if false'''\n",
    "    logging.debug(\"Running Opcode 6\")\n",
    "\n",
    "    if not modes[0]:\n",
    "        param1 = memory[param1]\n",
    "    if not modes[1]:\n",
    "        param2 = memory[param2]\n",
    "\n",
    "    logging.debug(f\"\\tparam, mode:\\n\\t------------\")\n",
    "    logging.debug(f\"\\t{param1}, {modes[0]}\")\n",
    "    logging.debug(f\"\\t{param2}, {modes[1]}\")\n",
    "    \n",
    "    if not param1:\n",
    "        return param2\n",
    "    else:\n",
    "        return None\n",
    "\n",
    "\n",
    "def opcode7(param1, param2, param3, memory, modes):\n",
    "    '''Less than'''\n",
    "    logging.debug(\"Running Opcode 7\")    \n",
    "\n",
    "    if not modes[0]:\n",
    "        param1 = memory[param1]\n",
    "    if not modes[1]:\n",
    "        param2 = memory[param2]\n",
    "   # if not modes[2]:\n",
    "   #     param3 = memory[param3]\n",
    "    if param1 < param2:\n",
    "        memory[param3] = 1\n",
    "    else:\n",
    "        memory[param3] = 0\n",
    "\n",
    "    logging.debug(f\"\\tparam, mode:\\n\\t------------\")\n",
    "    logging.debug(f\"\\t{param1}, {modes[0]}\")\n",
    "    logging.debug(f\"\\t{param2}, {modes[1]}\")\n",
    "    logging.debug(f\"\\t{param3}, {modes[2]}\")\n",
    "       \n",
    "\n",
    "\n",
    "def opcode8(param1, param2, param3, memory, modes):\n",
    "    '''Equal to'''\n",
    "    logging.debug(\"Running Opcode 8\")\n",
    "    if not modes[0]:\n",
    "        param1 = memory[param1]\n",
    "    if not modes[1]:\n",
    "        param2 = memory[param2]\n",
    "    #if not modes[2]:\n",
    "    #    param3 = memory[param3]\n",
    "    if param1 == param2:\n",
    "        memory[param3] = 1\n",
    "    else:\n",
    "        memory[param3] = 0\n",
    "\n",
    "    logging.debug(f\"\\tparam, mode:\\n\\t------------\")\n",
    "    logging.debug(f\"\\t{param1}, {modes[0]}\")\n",
    "    logging.debug(f\"\\t{param2}, {modes[1]}\")\n",
    "    logging.debug(f\"\\t{param3}, {modes[2]}\")\n",
    "\n",
    "    \n",
    "    \n",
    "def parse_instructions(x):\n",
    "    instructions = list(str(x).zfill(5))\n",
    "    op_code = int(''.join(instructions[-2:]))\n",
    "    param_modes = [int(i) for i in instructions[:-2]][::-1]\n",
    "    logging.debug(f\"Parsing instructions\\n\\tOpcode = {op_code}\\n\\tparam_modes={param_modes}\")\n",
    "    return (op_code, param_modes)\n",
    "\n",
    "    "
   ]
  },
  {
   "cell_type": "code",
   "execution_count": 362,
   "metadata": {},
   "outputs": [],
   "source": [
    "# %load ../day2/day2.py\n",
    "def run_program(vals):\n",
    "    idx = 0\n",
    "    incr = 0\n",
    "\n",
    "    while idx < len(vals):   \n",
    "        logging.debug(f\"\\n\\nCurrent_array: {vals}\\nCurrent index position: {idx}\")\n",
    "        new_idx = 0\n",
    "        op_code, param_modes = parse_instructions(vals[idx])\n",
    "        \n",
    "        if op_code == 1:\n",
    "            incr = 4\n",
    "            opcode1(vals[idx+1], vals[idx+2], vals[idx+3], vals, param_modes)\n",
    "        elif op_code == 2:\n",
    "            incr = 4\n",
    "            opcode2(vals[idx+1], vals[idx+2], vals[idx+3], vals, param_modes)\n",
    "        elif op_code == 3:\n",
    "            incr = 2\n",
    "            opcode3(vals[idx+1], vals)\n",
    "        elif op_code == 4:\n",
    "            incr = 2\n",
    "            opcode4(vals[idx+1], vals, param_modes)\n",
    "        elif op_code == 5:\n",
    "            incr = 3\n",
    "            new_idx = opcode5(vals[idx+1], vals[idx+2], vals, param_modes)\n",
    "        elif op_code == 6:\n",
    "            incr = 3\n",
    "            new_idx = opcode6(vals[idx+1], vals[idx+2], vals, param_modes)\n",
    "        elif op_code == 7:\n",
    "            incr = 4\n",
    "            new_idx = opcode7(vals[idx+1], vals[idx+2], vals[idx+3], vals, param_modes)\n",
    "        elif op_code == 8:\n",
    "            incr = 4\n",
    "            new_idx = opcode8(vals[idx+1], vals[idx+2], vals[idx+3], vals, param_modes)\n",
    "        elif op_code == stopcode:\n",
    "            print(\"Done!\")\n",
    "            break\n",
    "        else:\n",
    "            print(f\"Error! I don't understand this opcode: {op_code}\")\n",
    "            break\n",
    "        \n",
    "        if new_idx:\n",
    "            logging.debug(f\"Setting index to {new_idx}\")\n",
    "            idx = new_idx\n",
    "        else:\n",
    "            logging.debug(f\"Incrementing index by {incr}\")\n",
    "            idx = idx + incr\n",
    "\n",
    "    return vals\n",
    "\n",
    "\n",
    "\n"
   ]
  },
  {
   "cell_type": "code",
   "execution_count": 355,
   "metadata": {},
   "outputs": [],
   "source": [
    "test1 = [1,0,0,0,99]\n",
    "assert (run_program(test1) == [2,0,0,0,99])\n",
    "\n",
    "test2 = [2,3,0,3,99]\n",
    "assert (run_program(test2) == [2,3,0,6,99])\n",
    "\n",
    "test3 = [2,4,4,5,99,0]\n",
    "assert (run_program(test3) == [2,4,4,5,99,9801] )\n",
    "\n",
    "test4 = [1,1,1,4,99,5,6,0,99]\n",
    "assert (run_program(test4) == [30,1,1,4,2,5,6,0,99] )\n",
    "\n",
    "test5 = [1,0,0,3,1,1,2,3,1,3,4,3,1,5,0,3,2,1,10,19,2,9,19,23,2,23,10,27,1,6,27,31,1,31,6,35,2,35,10,39,1,39,5,43,2,6,43,47,2,47,10,51,1,51,6,55,1,55,6,59,1,9,59,63,1,63,9,67,1,67,6,71,2,71,13,75,1,75,5,79,1,79,9,83,2,6,83,87,1,87,5,91,2,6,91,95,1,95,9,99,2,6,99,103,1,5,103,107,1,6,107,111,1,111,10,115,2,115,13,119,1,119,6,123,1,123,2,127,1,127,5,0,99,2,14,0,0]\n",
    "test5[1] = 12\n",
    "test5[2] = 2\n",
    "assert (run_program(test5)[0] == 3716250)\n",
    "\n",
    "\"\"\"Using position mode, consider whether the input is equal to 8; output 1 (if it is) or 0 (if it is not)\"\"\"\n",
    "test6 = [3,9,8,9,10,9,4,9,99,-1,8]\n",
    "run_program(test6.copy());\n",
    "\n",
    "run_program(test6.copy());\n",
    "\n",
    "\"\"\"Using position mode, consider whether the input is less than 8; output 1 (if it is) or 0 (if it is not).\"\"\"\n",
    "test7 = [3,9,7,9,10,9,4,9,99,-1,8] \n",
    "run_program(test7.copy());\n",
    "\n",
    "run_program(test7.copy());\n",
    "\n",
    "\"\"\"Using immediate mode, consider whether the input is equal to 8; output 1 (if it is) or 0 (if it is not).\"\"\"\n",
    "test8 = [3,3,1108,-1,8,3,4,3,99]\n",
    "run_program(test8.copy());\n",
    "\n",
    "run_program(test8.copy());"
   ]
  },
  {
   "cell_type": "code",
   "execution_count": 356,
   "metadata": {},
   "outputs": [
    {
     "name": "stdin",
     "output_type": "stream",
     "text": [
      "Please enter an integer: -15\n"
     ]
    },
    {
     "name": "stdout",
     "output_type": "stream",
     "text": [
      "OUTPUT: 1\n",
      "Done!\n"
     ]
    },
    {
     "name": "stdin",
     "output_type": "stream",
     "text": [
      "Please enter an integer: 12\n"
     ]
    },
    {
     "name": "stdout",
     "output_type": "stream",
     "text": [
      "OUTPUT: 0\n",
      "Done!\n"
     ]
    }
   ],
   "source": [
    "\"\"\"Using immediate mode, consider whether the input is less than 8; output 1 (if it is) or 0 (if it is not).\"\"\"\n",
    "test9 = [3,3,1107,-1,8,3,4,3,99]\n",
    "run_program(test9.copy());\n",
    "run_program(test9.copy());"
   ]
  },
  {
   "cell_type": "code",
   "execution_count": 359,
   "metadata": {},
   "outputs": [
    {
     "name": "stdin",
     "output_type": "stream",
     "text": [
      "Please enter an integer: 0\n"
     ]
    },
    {
     "name": "stdout",
     "output_type": "stream",
     "text": [
      "opcode6, new_idx = 9\n",
      "OUTPUT: 0\n",
      "Done!\n"
     ]
    },
    {
     "name": "stdin",
     "output_type": "stream",
     "text": [
      "Please enter an integer: 12\n"
     ]
    },
    {
     "name": "stdout",
     "output_type": "stream",
     "text": [
      "opcode6, new_idx = None\n",
      "OUTPUT: 1\n",
      "Done!\n"
     ]
    }
   ],
   "source": [
    "\"\"\"Here are some jump tests that take an input, then output 0 if the input was zero or 1 if the input was non-zero:\"\"\"\n",
    "\"\"\"Using position mode\"\"\"\n",
    "test10 = [3,12,6,12,15,1,13,14,13,4,13,99,-1,0,1,9]\n",
    "run_program(test10.copy());\n",
    "run_program(test10.copy());"
   ]
  },
  {
   "cell_type": "code",
   "execution_count": 361,
   "metadata": {},
   "outputs": [
    {
     "name": "stdin",
     "output_type": "stream",
     "text": [
      "Please enter an integer: 0\n"
     ]
    },
    {
     "name": "stdout",
     "output_type": "stream",
     "text": [
      "OUTPUT: 0\n",
      "Done!\n"
     ]
    },
    {
     "name": "stdin",
     "output_type": "stream",
     "text": [
      "Please enter an integer: -12\n"
     ]
    },
    {
     "name": "stdout",
     "output_type": "stream",
     "text": [
      "OUTPUT: 1\n",
      "Done!\n"
     ]
    },
    {
     "data": {
      "text/plain": [
       "[3, 3, 1105, -12, 9, 1101, 0, 0, 12, 4, 12, 99, 1]"
      ]
     },
     "execution_count": 361,
     "metadata": {},
     "output_type": "execute_result"
    }
   ],
   "source": [
    "\"\"\"Here are some jump tests that take an input, then output 0 if the input was zero or 1 if the input was non-zero:\"\"\"\n",
    "\"\"\"Using immediate mode\"\"\"\n",
    "test11 = [3,3,1105,-1,9,1101,0,0,12,4,12,99,1]\n",
    "run_program(test11.copy());\n",
    "run_program(test11.copy());"
   ]
  },
  {
   "cell_type": "code",
   "execution_count": 363,
   "metadata": {},
   "outputs": [
    {
     "name": "stdin",
     "output_type": "stream",
     "text": [
      "Please enter an integer: 2\n"
     ]
    },
    {
     "name": "stdout",
     "output_type": "stream",
     "text": [
      "OUTPUT: 999\n",
      "Done!\n"
     ]
    }
   ],
   "source": [
    "\"\"\"Ask user for a single number. \n",
    "The program will then output 999 if the input value is below 8,\n",
    "output 1000 if the input value is equal to 8, \n",
    "or output 1001 if the input value is greater than 8.\"\"\"\n",
    "\n",
    "test12 = [3,21,1008,21,8,20,1005,20,22,107,8,21,20,1006,20,31, 1106,0,36,98,0,0,1002,21,125,20,4,20,1105,1,46,104, 999,1105,1,46,1101,1000,1,20,4,20,1105,1,46,98,99]\n",
    "run_program(test12.copy());\n",
    "run_program(test12.copy());\n",
    "run_program(te)"
   ]
  },
  {
   "cell_type": "code",
   "execution_count": null,
   "metadata": {},
   "outputs": [],
   "source": [
    "with open('inputs.txt', 'r') as f:\n",
    "    tmp = f.readlines()[0]\n",
    "inputs = [int(t) for t in tmp.strip().split(',')]\n",
    "\n",
    "\n",
    "run_program(inputs);"
   ]
  },
  {
   "cell_type": "markdown",
   "metadata": {},
   "source": [
    "###### "
   ]
  },
  {
   "cell_type": "code",
   "execution_count": null,
   "metadata": {},
   "outputs": [],
   "source": []
  }
 ],
 "metadata": {
  "kernelspec": {
   "display_name": "Python 3",
   "language": "python",
   "name": "python3"
  },
  "language_info": {
   "codemirror_mode": {
    "name": "ipython",
    "version": 3
   },
   "file_extension": ".py",
   "mimetype": "text/x-python",
   "name": "python",
   "nbconvert_exporter": "python",
   "pygments_lexer": "ipython3",
   "version": "3.7.3"
  }
 },
 "nbformat": 4,
 "nbformat_minor": 4
}
